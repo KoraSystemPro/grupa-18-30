{
 "cells": [
  {
   "cell_type": "code",
   "execution_count": 4,
   "metadata": {},
   "outputs": [
    {
     "name": "stdout",
     "output_type": "stream",
     "text": [
      "28\n",
      "<class 'str'>\n"
     ]
    }
   ],
   "source": [
    "a = 15\n",
    "b = 13\n",
    "if a > b:\n",
    "    z = a + b\n",
    "    print(z)\n",
    "\n",
    "a = \"Nemanja\"\n",
    "print(type(a))"
   ]
  },
  {
   "cell_type": "code",
   "execution_count": 25,
   "metadata": {},
   "outputs": [
    {
     "name": "stdout",
     "output_type": "stream",
     "text": [
      "68\n",
      "14\n",
      "28.0\n"
     ]
    }
   ],
   "source": [
    "a = \"6\"\n",
    "b = 8\n",
    "\n",
    "# \"6\" + \"8\" = \"68\"\n",
    "print(a + str(b))\n",
    "\n",
    "# 6 + 8 = 14\n",
    "print(int(a) + b)\n",
    "\n",
    "c = 3.5\n",
    "# 8 * 3.5 = 28.0\n",
    "print(b * c)"
   ]
  },
  {
   "cell_type": "markdown",
   "metadata": {},
   "source": [
    "Tipovi promenljivih:\n",
    "Numericki:     int, float\n",
    "Tekstualni:    str\n",
    "Bulian:        bool\n",
    "Sekvencijalni: list, tuple (n-torka)\n",
    "Mape:          dict (recnik)\n",
    "Skupovi:       set (skup)\n"
   ]
  },
  {
   "cell_type": "code",
   "execution_count": 26,
   "metadata": {},
   "outputs": [],
   "source": [
    "x = \"Ovo je neki string.\"    # str\n",
    "x = 5                        # int\n",
    "x = 5.87                     # float\n",
    "x = True                     # bool\n",
    "x = [\"mleko\", \"jaja\", \"sir\"] # lista\n",
    "x = [3, 3.56, 8]\n",
    "x = (2, 3, 6, 7)             # tuple\n",
    "x = {\"ime\":\"Marko\", \"starost\":14, \"visina\":185.3, \"student\":False} # dict\n",
    "x = {\"jabuka\", \"breskva\", \"kajsija\"} # set\n"
   ]
  },
  {
   "cell_type": "markdown",
   "metadata": {},
   "source": [
    "## Liste"
   ]
  },
  {
   "cell_type": "code",
   "execution_count": 42,
   "metadata": {},
   "outputs": [
    {
     "name": "stdout",
     "output_type": "stream",
     "text": [
      "['banana', 'jabuka', 'kruska', 'kajsija', 'banana']\n",
      "banana\n",
      "Duzina liste je: 5\n"
     ]
    }
   ],
   "source": [
    "# Dozvoljava duplikate\n",
    "lista = [\"banana\", \"jabuka\", \"kruska\", \"kajsija\", \"banana\"]\n",
    "print(lista)\n",
    "\n",
    "# Pristup putem indeksa\n",
    "print(lista[0])\n",
    "\n",
    "# Duzina liste\n",
    "print(\"Duzina liste je:\", len(lista))\n",
    "\n",
    "# Mešovita lista\n",
    "lista = [\"asd\", 32, True, 4.32]"
   ]
  },
  {
   "cell_type": "markdown",
   "metadata": {},
   "source": [
    "## Tuple (uređene n-torke)"
   ]
  },
  {
   "cell_type": "code",
   "execution_count": 45,
   "metadata": {},
   "outputs": [
    {
     "name": "stdout",
     "output_type": "stream",
     "text": [
      "('Beograd', 'Novi Beograd', 'Jurija Gagarina')\n",
      "Beograd\n",
      "Dužina n-torke: 3\n"
     ]
    }
   ],
   "source": [
    "# Dozvoljava duplikate\n",
    "ntorka = (\"Beograd\", \"Novi Beograd\", \"Jurija Gagarina\")\n",
    "print(ntorka)\n",
    "\n",
    "# Pristup putem indeksa\n",
    "print(ntorka[0])\n",
    "\n",
    "# Duzina n-torke\n",
    "print(\"Dužina n-torke:\", len(ntorka))\n",
    "\n",
    "# Mešovita n-torka\n",
    "ntorka = (\"asd\", 32, True, 4.32)"
   ]
  },
  {
   "cell_type": "markdown",
   "metadata": {},
   "source": [
    "## Skup"
   ]
  },
  {
   "cell_type": "code",
   "execution_count": 46,
   "metadata": {},
   "outputs": [
    {
     "name": "stdout",
     "output_type": "stream",
     "text": [
      "{'kajsija', 'breskva', 'jabuka'}\n",
      "Dužina skupa: 3\n"
     ]
    }
   ],
   "source": [
    "# Ne dozvoljava duplikate\n",
    "skup = {\"jabuka\", \"breskva\", \"kajsija\", \"jabuka\"}\n",
    "print(skup)\n",
    "\n",
    "# Nema pristupa putem indeksa\n",
    "\n",
    "# Dimenzija skupa\n",
    "print(\"Dužina skupa:\", len(skup))\n",
    "\n",
    "# Mešoviti skup\n",
    "skup = {\"asd\", 32, True, 4.32}"
   ]
  },
  {
   "cell_type": "markdown",
   "metadata": {},
   "source": [
    "## Rečnik"
   ]
  },
  {
   "cell_type": "code",
   "execution_count": 6,
   "metadata": {},
   "outputs": [
    {
     "name": "stdout",
     "output_type": "stream",
     "text": [
      "{'ime': 'Marko', 'godiste': 1993, 'visina': 185.3, 'student': False, 'hobiji': ['plivanje', 'trčanje', 'ribolov']}\n",
      "Visina osobe je: 185.3\n",
      "Broj ključeva: 5\n"
     ]
    }
   ],
   "source": [
    "# Zapisani su u formatu ključ:vrednost\n",
    "osoba = {\n",
    "    \"ime\": \"Marko\",\n",
    "    \"godiste\": 1993,\n",
    "    \"visina\": 185.3,\n",
    "    \"student\": False,\n",
    "    \"hobiji\": [\"plivanje\", \"trčanje\", \"ribolov\"]\n",
    "}\n",
    "print(osoba)\n",
    "\n",
    "# Nema pristupa po indeksu, jer se vrši putem ključa\n",
    "\n",
    "# Tražimo po ključu visinu\n",
    "print(\"Visina osobe je:\", osoba[\"visina\"])\n",
    "\n",
    "# Dimenzija rečnika (broj ključeva)\n",
    "print(\"Broj ključeva:\", len(osoba))\n"
   ]
  },
  {
   "cell_type": "markdown",
   "metadata": {},
   "source": [
    "## IF - ELSE - ELIF"
   ]
  },
  {
   "cell_type": "code",
   "execution_count": 7,
   "metadata": {},
   "outputs": [
    {
     "name": "stdout",
     "output_type": "stream",
     "text": [
      "Brojevi su jednaki.\n"
     ]
    }
   ],
   "source": [
    "a = 200\n",
    "b = 200\n",
    "if a > b:\n",
    "    print(\"A je veće od B.\")\n",
    "elif a < b:\n",
    "    print(\"B je veće od A.\")\n",
    "else:\n",
    "    print(\"Brojevi su jednaki.\")"
   ]
  },
  {
   "cell_type": "markdown",
   "metadata": {},
   "source": [
    "## While"
   ]
  },
  {
   "cell_type": "code",
   "execution_count": 20,
   "metadata": {},
   "outputs": [
    {
     "name": "stdout",
     "output_type": "stream",
     "text": [
      "30\n",
      "90\n",
      "150\n",
      "210\n",
      "270\n",
      "330\n",
      "390\n",
      "450\n"
     ]
    }
   ],
   "source": [
    "i = 1\n",
    "while i < 500:\n",
    "    if i % 2 == 0 and i % 15 == 0 and i % 60 != 0:   # and = &&  i  or = ||\n",
    "        print(i)\n",
    "    i += 1"
   ]
  },
  {
   "cell_type": "markdown",
   "metadata": {},
   "source": [
    "## For"
   ]
  },
  {
   "cell_type": "code",
   "execution_count": 6,
   "metadata": {},
   "outputs": [
    {
     "name": "stdout",
     "output_type": "stream",
     "text": [
      "0\n",
      "13\n",
      "26\n",
      "39\n",
      "52\n",
      "65\n",
      "78\n",
      "91\n"
     ]
    }
   ],
   "source": [
    "#for i in range(10): # u rasponu od 0 do 10\n",
    "#         [0, 1, 2, 3, 4, 5, 6, 7, 8, 9]\n",
    "#    print(i)\n",
    "#for i in [4, 5, 6, 7, 8, 9]:\n",
    "#    print(i)\n",
    "#for i in range(4, 10): # u rasponu od 4 do 10\n",
    "#     print(i)\n",
    "for i in range(0, 101, 13):\n",
    "    print(i)"
   ]
  },
  {
   "cell_type": "code",
   "execution_count": 7,
   "metadata": {},
   "outputs": [
    {
     "name": "stdout",
     "output_type": "stream",
     "text": [
      "5\n",
      "8\n",
      "11\n",
      "14\n",
      "17\n",
      "20\n",
      "23\n",
      "26\n",
      "29\n",
      "32\n",
      "35\n",
      "38\n"
     ]
    }
   ],
   "source": [
    "a = range(5, 40, 3)\n",
    "for i in a:\n",
    "    print(i)"
   ]
  },
  {
   "cell_type": "code",
   "execution_count": 10,
   "metadata": {},
   "outputs": [
    {
     "name": "stdout",
     "output_type": "stream",
     "text": [
      "Mila\n",
      "Stefan\n",
      "Ana\n",
      "Boris\n",
      "Mateja\n",
      "Broj osoba sa imenom 'Stefan' je: 3\n"
     ]
    }
   ],
   "source": [
    "ucesnici = [\"Mila\", \"Stefan\", \"Ana\", \"Boris\", \"Mateja\", \"Nemanja\", \"Stefan\", \"Pavle\", \"Ilija\", \"Stefan\"]\n",
    "#for i in range(8):\n",
    "#    print(ucesnici[i])\n",
    "#for i in range(len(ucesnici)):\n",
    "#    print(ucesnici[i])\n",
    "for ucesnik in ucesnici:   # ucesnici[i]\n",
    "    if ucesnik == \"Mateja\":\n",
    "        print(ucesnik)\n",
    "        break\n",
    "    else:\n",
    "        print(ucesnik)\n",
    "    \n",
    "br_stefan = 0\n",
    "for ucesnik in ucesnici:\n",
    "    if ucesnik == \"Stefan\":  \n",
    "        br_stefan += 1\n",
    "print(\"Broj osoba sa imenom 'Stefan' je:\", br_stefan)"
   ]
  },
  {
   "cell_type": "code",
   "execution_count": 5,
   "metadata": {},
   "outputs": [
    {
     "name": "stdout",
     "output_type": "stream",
     "text": [
      "Ovo_j_rcnica\n"
     ]
    }
   ],
   "source": [
    "recenica = \"Ovo je recenica\"\n",
    "modifikovana = \"\"\n",
    "for i in recenica:\n",
    "    if i == 'e' or i == 'E':\n",
    "        continue\n",
    "    elif i == ' ':\n",
    "        modifikovana += '_'\n",
    "    else:\n",
    "        modifikovana += i\n",
    "print(modifikovana)\n"
   ]
  },
  {
   "cell_type": "code",
   "execution_count": 15,
   "metadata": {},
   "outputs": [
    {
     "name": "stdout",
     "output_type": "stream",
     "text": [
      "Mercedes Nemačka\n",
      "Mercedes F1\n",
      "Mercedes civilni automobil\n",
      "Audi Nemačka\n",
      "Audi F1\n",
      "Audi civilni automobil\n",
      "Volkswagen Nemačka\n",
      "Volkswagen F1\n",
      "Volkswagen civilni automobil\n"
     ]
    }
   ],
   "source": [
    "automobili = [\"Mercedes\", \"Audi\", \"Volkswagen\"]\n",
    "pridevi = [\"Nemačka\", \"F1\", \"civilni automobil\"]\n",
    "\n",
    "\"\"\"\n",
    "for i in range(3):\n",
    "    for j in range(3):\n",
    "        print(automobili[i], pridevi[j])\n",
    "\"\"\"  \n",
    "\n",
    "for automobil in automobili:\n",
    "    for pridev in pridevi:\n",
    "        print(automobil, pridev)"
   ]
  },
  {
   "cell_type": "markdown",
   "metadata": {},
   "source": [
    "## Funkcije"
   ]
  },
  {
   "cell_type": "code",
   "execution_count": 20,
   "metadata": {},
   "outputs": [
    {
     "name": "stdout",
     "output_type": "stream",
     "text": [
      "Pozdrav, od funkcije za pozdrave!\n"
     ]
    }
   ],
   "source": [
    "def pozdravi_me():\n",
    "    print(\"Pozdrav, od funkcije za pozdrave!\")\n",
    "\n",
    "pozdravi_me()"
   ]
  },
  {
   "cell_type": "code",
   "execution_count": 21,
   "metadata": {},
   "outputs": [
    {
     "name": "stdout",
     "output_type": "stream",
     "text": [
      "Pozdrav Nemanja, od funkcije za pozdrave!\n"
     ]
    }
   ],
   "source": [
    "def pozdravi_me(ime):\n",
    "    print(\"Pozdrav \" + ime + \", od funkcije za pozdrave!\")\n",
    "\n",
    "ucenik = \"Nemanja\"\n",
    "pozdravi_me(ucenik)"
   ]
  },
  {
   "cell_type": "code",
   "execution_count": 22,
   "metadata": {},
   "outputs": [
    {
     "name": "stdout",
     "output_type": "stream",
     "text": [
      "Pozdrav Nemanja Stojić, od funkcije za pozdrave!\n"
     ]
    }
   ],
   "source": [
    "def pozdravi_me(ime, prezime):\n",
    "    print(\"Pozdrav \" + ime + \" \" + prezime + \", od funkcije za pozdrave!\")\n",
    "\n",
    "ucenik_ime = \"Nemanja\"\n",
    "ucenik_prezime = \"Stojić\"\n",
    "pozdravi_me(ucenik_ime, ucenik_prezime)"
   ]
  },
  {
   "cell_type": "code",
   "execution_count": 27,
   "metadata": {},
   "outputs": [
    {
     "name": "stdout",
     "output_type": "stream",
     "text": [
      "Pozdrav Ana Stojić, od funkcije za pozdrave!\n"
     ]
    }
   ],
   "source": [
    "def pozdravi_me(*ime):\n",
    "    print(\"Pozdrav \" + ime[0] + \" \" + ime[-1] + \", od funkcije za pozdrave!\")\n",
    "\n",
    "# [\"Marija\", \"Stojić\", \"Ana\", \"Marija\", \"Stojić\"]\n",
    "#    -2         -1      0       1         2\n",
    "    \n",
    "ucenik_ime = \"Ana\"\n",
    "ucenik_ime2 = \"Marija\"\n",
    "ucenik_prezime = \"Stojić\"\n",
    "pozdravi_me(ucenik_ime, ucenik_ime2, ucenik_prezime)"
   ]
  },
  {
   "cell_type": "markdown",
   "metadata": {},
   "source": [
    "## Klase i Objekti"
   ]
  },
  {
   "cell_type": "code",
   "execution_count": 47,
   "metadata": {},
   "outputs": [
    {
     "name": "stdout",
     "output_type": "stream",
     "text": [
      "Nikola 173 16\n",
      "Pozdrav Nikola, od funkcije za pozdrave!\n",
      "Nikola 0 16\n"
     ]
    }
   ],
   "source": [
    "class Osoba:\n",
    "    # Svojstva\n",
    "    ime = \"\"\n",
    "    visina = 0\n",
    "    godine = 0\n",
    "    \n",
    "    # Konstruktor\n",
    "    # Self parametar moze da se zove i drugacije, npr person, pa bi pristup bio, umesto self.ime, postao bi person.ime...\n",
    "    def __init__(self, name, height, age):\n",
    "        self.ime = name\n",
    "        self.visina = height\n",
    "        self.godine = age\n",
    "    \n",
    "    # Metode (funkcije)\n",
    "    def pozdravi(self):\n",
    "        print(\"Pozdrav \" + self.ime + \", od funkcije za pozdrave!\")   \n",
    "\n",
    "osoba1 = Osoba(\"Nikola\", 173, 15)\n",
    "osoba1.godine += 1\n",
    "print(osoba1.ime, osoba1.visina, osoba1.godine)\n",
    "\n",
    "osoba1.pozdravi()\n",
    "\n",
    "# Brise svojstvo objekta\n",
    "del osoba1.visina\n",
    "print(osoba1.ime, osoba1.visina, osoba1.godine)\n",
    "# Brise objekat\n",
    "del osoba1"
   ]
  },
  {
   "cell_type": "code",
   "execution_count": null,
   "metadata": {},
   "outputs": [],
   "source": []
  }
 ],
 "metadata": {
  "kernelspec": {
   "display_name": "Python 3",
   "language": "python",
   "name": "python3"
  },
  "language_info": {
   "codemirror_mode": {
    "name": "ipython",
    "version": 3
   },
   "file_extension": ".py",
   "mimetype": "text/x-python",
   "name": "python",
   "nbconvert_exporter": "python",
   "pygments_lexer": "ipython3",
   "version": "3.7.4"
  }
 },
 "nbformat": 4,
 "nbformat_minor": 4
}
