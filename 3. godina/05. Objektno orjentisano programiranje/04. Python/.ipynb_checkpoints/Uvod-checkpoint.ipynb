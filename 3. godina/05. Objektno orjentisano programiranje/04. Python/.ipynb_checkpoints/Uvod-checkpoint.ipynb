{
 "cells": [
  {
   "cell_type": "code",
   "execution_count": 4,
   "metadata": {},
   "outputs": [
    {
     "name": "stdout",
     "output_type": "stream",
     "text": [
      "28\n",
      "<class 'str'>\n"
     ]
    }
   ],
   "source": [
    "a = 15\n",
    "b = 13\n",
    "if a > b:\n",
    "    z = a + b\n",
    "    print(z)\n",
    "\n",
    "a = \"Nemanja\"\n",
    "print(type(a))"
   ]
  },
  {
   "cell_type": "code",
   "execution_count": 25,
   "metadata": {},
   "outputs": [
    {
     "name": "stdout",
     "output_type": "stream",
     "text": [
      "68\n",
      "14\n",
      "28.0\n"
     ]
    }
   ],
   "source": [
    "a = \"6\"\n",
    "b = 8\n",
    "\n",
    "# \"6\" + \"8\" = \"68\"\n",
    "print(a + str(b))\n",
    "\n",
    "# 6 + 8 = 14\n",
    "print(int(a) + b)\n",
    "\n",
    "c = 3.5\n",
    "# 8 * 3.5 = 28.0\n",
    "print(b * c)"
   ]
  },
  {
   "cell_type": "markdown",
   "metadata": {},
   "source": [
    "Tipovi promenljivih:\n",
    "Numericki:     int, float\n",
    "Tekstualni:    str\n",
    "Bulian:        bool\n",
    "Sekvencijalni: list, tuple (n-torka)\n",
    "Mape:          dict (recnik)\n",
    "Skupovi:       set (skup)\n"
   ]
  },
  {
   "cell_type": "code",
   "execution_count": 26,
   "metadata": {},
   "outputs": [],
   "source": [
    "x = \"Ovo je neki string.\"    # str\n",
    "x = 5                        # int\n",
    "x = 5.87                     # float\n",
    "x = True                     # bool\n",
    "x = [\"mleko\", \"jaja\", \"sir\"] # lista\n",
    "x = [3, 3.56, 8]\n",
    "x = (2, 3, 6, 7)             # tuple\n",
    "x = {\"ime\":\"Marko\", \"starost\":14, \"visina\":185.3, \"student\":False} # dict\n",
    "x = {\"jabuka\", \"breskva\", \"kajsija\"} # set\n"
   ]
  },
  {
   "cell_type": "markdown",
   "metadata": {},
   "source": [
    "## Liste"
   ]
  },
  {
   "cell_type": "code",
   "execution_count": 42,
   "metadata": {},
   "outputs": [
    {
     "name": "stdout",
     "output_type": "stream",
     "text": [
      "['banana', 'jabuka', 'kruska', 'kajsija', 'banana']\n",
      "banana\n",
      "Duzina liste je: 5\n"
     ]
    }
   ],
   "source": [
    "# Dozvoljava duplikate\n",
    "lista = [\"banana\", \"jabuka\", \"kruska\", \"kajsija\", \"banana\"]\n",
    "print(lista)\n",
    "\n",
    "# Pristup putem indeksa\n",
    "print(lista[0])\n",
    "\n",
    "# Duzina liste\n",
    "print(\"Duzina liste je:\", len(lista))\n",
    "\n",
    "# Mešovita lista\n",
    "lista = [\"asd\", 32, True, 4.32]"
   ]
  },
  {
   "cell_type": "markdown",
   "metadata": {},
   "source": [
    "## Tuple (uređene n-torke)"
   ]
  },
  {
   "cell_type": "code",
   "execution_count": 45,
   "metadata": {},
   "outputs": [
    {
     "name": "stdout",
     "output_type": "stream",
     "text": [
      "('Beograd', 'Novi Beograd', 'Jurija Gagarina')\n",
      "Beograd\n",
      "Dužina n-torke: 3\n"
     ]
    }
   ],
   "source": [
    "# Dozvoljava duplikate\n",
    "ntorka = (\"Beograd\", \"Novi Beograd\", \"Jurija Gagarina\")\n",
    "print(ntorka)\n",
    "\n",
    "# Pristup putem indeksa\n",
    "print(ntorka[0])\n",
    "\n",
    "# Duzina n-torke\n",
    "print(\"Dužina n-torke:\", len(ntorka))\n",
    "\n",
    "# Mešovita n-torka\n",
    "ntorka = (\"asd\", 32, True, 4.32)"
   ]
  },
  {
   "cell_type": "markdown",
   "metadata": {},
   "source": [
    "## Skup"
   ]
  },
  {
   "cell_type": "code",
   "execution_count": 46,
   "metadata": {},
   "outputs": [
    {
     "name": "stdout",
     "output_type": "stream",
     "text": [
      "{'kajsija', 'breskva', 'jabuka'}\n",
      "Dužina skupa: 3\n"
     ]
    }
   ],
   "source": [
    "# Ne dozvoljava duplikate\n",
    "skup = {\"jabuka\", \"breskva\", \"kajsija\", \"jabuka\"}\n",
    "print(skup)\n",
    "\n",
    "# Nema pristupa putem indeksa\n",
    "\n",
    "# Dimenzija skupa\n",
    "print(\"Dužina skupa:\", len(skup))\n",
    "\n",
    "# Mešoviti skup\n",
    "skup = {\"asd\", 32, True, 4.32}"
   ]
  },
  {
   "cell_type": "markdown",
   "metadata": {},
   "source": [
    "## Rečnik"
   ]
  },
  {
   "cell_type": "code",
   "execution_count": 6,
   "metadata": {},
   "outputs": [
    {
     "name": "stdout",
     "output_type": "stream",
     "text": [
      "{'ime': 'Marko', 'godiste': 1993, 'visina': 185.3, 'student': False, 'hobiji': ['plivanje', 'trčanje', 'ribolov']}\n",
      "Visina osobe je: 185.3\n",
      "Broj ključeva: 5\n"
     ]
    }
   ],
   "source": [
    "# Zapisani su u formatu ključ:vrednost\n",
    "osoba = {\n",
    "    \"ime\": \"Marko\",\n",
    "    \"godiste\": 1993,\n",
    "    \"visina\": 185.3,\n",
    "    \"student\": False,\n",
    "    \"hobiji\": [\"plivanje\", \"trčanje\", \"ribolov\"]\n",
    "}\n",
    "print(osoba)\n",
    "\n",
    "# Nema pristupa po indeksu, jer se vrši putem ključa\n",
    "\n",
    "# Tražimo po ključu visinu\n",
    "print(\"Visina osobe je:\", osoba[\"visina\"])\n",
    "\n",
    "# Dimenzija rečnika (broj ključeva)\n",
    "print(\"Broj ključeva:\", len(osoba))\n"
   ]
  },
  {
   "cell_type": "markdown",
   "metadata": {},
   "source": [
    "## IF - ELSE - ELIF"
   ]
  },
  {
   "cell_type": "code",
   "execution_count": 7,
   "metadata": {},
   "outputs": [
    {
     "name": "stdout",
     "output_type": "stream",
     "text": [
      "Brojevi su jednaki.\n"
     ]
    }
   ],
   "source": [
    "a = 200\n",
    "b = 200\n",
    "if a > b:\n",
    "    print(\"A je veće od B.\")\n",
    "elif a < b:\n",
    "    print(\"B je veće od A.\")\n",
    "else:\n",
    "    print(\"Brojevi su jednaki.\")"
   ]
  },
  {
   "cell_type": "markdown",
   "metadata": {},
   "source": [
    "## While"
   ]
  },
  {
   "cell_type": "code",
   "execution_count": 20,
   "metadata": {},
   "outputs": [
    {
     "name": "stdout",
     "output_type": "stream",
     "text": [
      "30\n",
      "90\n",
      "150\n",
      "210\n",
      "270\n",
      "330\n",
      "390\n",
      "450\n"
     ]
    }
   ],
   "source": [
    "i = 1\n",
    "while i < 500:\n",
    "    if i % 2 == 0 and i % 15 == 0 and i % 60 != 0:   # and = &&  i  or = ||\n",
    "        print(i)\n",
    "    i += 1"
   ]
  },
  {
   "cell_type": "markdown",
   "metadata": {},
   "source": [
    "## For"
   ]
  },
  {
   "cell_type": "code",
   "execution_count": 38,
   "metadata": {},
   "outputs": [
    {
     "name": "stdout",
     "output_type": "stream",
     "text": [
      "0\n",
      "1\n",
      "2\n",
      "3\n",
      "4\n",
      "5\n",
      "6\n",
      "7\n",
      "8\n",
      "9\n"
     ]
    }
   ],
   "source": [
    "#for i in range(10): # u rasponu od 0 do 10\n",
    "#         [0, 1, 2, 3, 4, 5, 6, 7, 8, 9]\n",
    "#    print(i)\n",
    "i = 4\n",
    "for i in  [0, 1, 2, 3, 4, 5, 6, 7, 8, 9]:\n",
    "    \n",
    "    print(i)"
   ]
  },
  {
   "cell_type": "code",
   "execution_count": 36,
   "metadata": {},
   "outputs": [
    {
     "name": "stdout",
     "output_type": "stream",
     "text": [
      "Mila\n",
      "Ana\n",
      "Boris\n",
      "Mateja\n",
      "Nemanja\n",
      "Stefan\n",
      "Pavle\n",
      "Ilija\n",
      "Ovo_j_rcnica\n"
     ]
    }
   ],
   "source": [
    "ucesnici = [\"Mila\", \"Ana\", \"Boris\", \"Mateja\", \"Nemanja\", \"Stefan\", \"Pavle\", \"Ilija\", \"Stefan\"]\n",
    "#for i in range(8):\n",
    "#    print(ucesnici[i])\n",
    "#for i in range(len(ucesnici)):\n",
    "#    print(ucesnici[i])\n",
    "#for ucesnik in ucesnici:   # ucesnici[i]\n",
    "#    print(ucesnik)\n",
    "#br_stefan = 0\n",
    "#for ucesnik in ucesnici:\n",
    "#    if ucesnik == \"Stefan\":  \n",
    "#        br_stefan += 1\n",
    "#print(\"Broj osoba sa imenom 'Stefan' je:\", br_stefan)\n",
    "recenica = \"Ovo je recenica\"\n",
    "modifikovana = \"\"\n",
    "for i in recenica:\n",
    "    if i == 'e' or i == 'E':\n",
    "        continue\n",
    "    elif i == ' ':\n",
    "        modifikovana += '_'\n",
    "    else:\n",
    "        modifikovana += i\n",
    "print(modifikovana)"
   ]
  },
  {
   "cell_type": "code",
   "execution_count": null,
   "metadata": {},
   "outputs": [],
   "source": [
    "\n"
   ]
  }
 ],
 "metadata": {
  "kernelspec": {
   "display_name": "Python 3",
   "language": "python",
   "name": "python3"
  },
  "language_info": {
   "codemirror_mode": {
    "name": "ipython",
    "version": 3
   },
   "file_extension": ".py",
   "mimetype": "text/x-python",
   "name": "python",
   "nbconvert_exporter": "python",
   "pygments_lexer": "ipython3",
   "version": "3.8.5"
  }
 },
 "nbformat": 4,
 "nbformat_minor": 4
}
