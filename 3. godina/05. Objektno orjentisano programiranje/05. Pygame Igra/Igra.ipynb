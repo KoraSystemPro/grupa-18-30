{
 "cells": [
  {
   "cell_type": "markdown",
   "metadata": {},
   "source": [
    "# Pygame"
   ]
  },
  {
   "cell_type": "markdown",
   "metadata": {},
   "source": [
    "## Uvod\n"
   ]
  },
  {
   "cell_type": "markdown",
   "metadata": {},
   "source": [
    "### Instalacija"
   ]
  },
  {
   "cell_type": "code",
   "execution_count": null,
   "metadata": {},
   "outputs": [],
   "source": [
    "pip install pygame"
   ]
  },
  {
   "cell_type": "markdown",
   "metadata": {},
   "source": [
    "### Osnove"
   ]
  },
  {
   "cell_type": "code",
   "execution_count": null,
   "metadata": {},
   "outputs": [],
   "source": [
    "# importujemo i inicijalizujemo pygame biblioteku\n",
    "import pygame\n",
    "pygame.init()\n",
    "\n",
    "# Podešavamo prostor po kome ćemo crtati\n",
    "display = pygame.display.set_mode((500, 500))\n",
    "\n",
    "# Konstane koje sadrže neke od boja\n",
    "CRNA = pygame.Color(\"black\")\n",
    "PINK = pygame.Color(230, 70, 230)\n",
    "\n",
    "# Glavna petlja \n",
    "game_over = False\n",
    "while not game_over:\n",
    "    # Dohvata listu svih event-ova koji su se dogodili (pritiskanje tastature, miša, džojstika...)\n",
    "    for event in pygame.event.get():\n",
    "        if event.type == pygame.QUIT:\n",
    "            game_over = True\n",
    "    \n",
    "    # Ažurirarnje frejma\n",
    "    ####################\n",
    "    # Puni prozor crnom bojom\n",
    "    display.fill(CRNA)\n",
    "    # Crtamo beli krug na koordinatama 250, 250 sa poluprečnikom 30\n",
    "    pygame.draw.circle(display, PINK, (250, 250), 30)\n",
    "    ####################\n",
    "    \n",
    "    # Flipovanje displeja (prikazujemo frejm koji smo napravili do ovog trenutka)\n",
    "    pygame.display.flip()\n",
    "\n",
    "\n",
    "# Čisti display i gasi prozor\n",
    "pygame.quit()"
   ]
  },
  {
   "cell_type": "markdown",
   "metadata": {},
   "source": [
    "### Koncepti"
   ]
  },
  {
   "cell_type": "markdown",
   "metadata": {},
   "source": [
    "#### Display i Surface (displaj i povrsi)\n",
    "\n",
    "Surface - pravi jedan pravougaonik na kom možete da crtate, ili na koji možete da stavite neku sliku.\n",
    "<br>Display - ili prozor ili fullscreen, sve što se prikazuje na njemu će krajni korisnik videti, on se kreira se medotodm .set_mode() i mi na ovu površ šaljemo sve funkcije koje će nam prikazati neki oblik, npr krug"
   ]
  },
  {
   "cell_type": "markdown",
   "metadata": {},
   "source": [
    "## Igrica"
   ]
  },
  {
   "cell_type": "markdown",
   "metadata": {},
   "source": [
    "### Biblioteke i globalne promenljive"
   ]
  },
  {
   "cell_type": "code",
   "execution_count": 1,
   "metadata": {},
   "outputs": [
    {
     "name": "stdout",
     "output_type": "stream",
     "text": [
      "pygame 2.0.1 (SDL 2.0.14, Python 3.7.4)\n",
      "Hello from the pygame community. https://www.pygame.org/contribute.html\n"
     ]
    }
   ],
   "source": [
    "# Importujemo pygame\n",
    "import pygame\n",
    "import random\n",
    "\n",
    "# Importujemo i moduo koji zna koje dugme je pritisnuto\n",
    "from pygame.locals import *\n",
    "\n",
    "\n",
    "# Inicijalizujemo pygame biblioteku\n",
    "pygame.init()\n",
    "\n",
    "# Definišemo konstane koje će se koristiti u programu\n",
    "EKRAN_SIRINA = 800\n",
    "EKRAN_VISINA = 600\n",
    "FRAMERATE = 30\n",
    "SCORE = 0\n",
    "# Boje\n",
    "CRNA = pygame.Color(\"black\")\n",
    "BELA = pygame.Color(\"white\")\n",
    "PINK = pygame.Color(230, 70, 230)"
   ]
  },
  {
   "cell_type": "markdown",
   "metadata": {},
   "source": [
    "### Definišemo klase"
   ]
  },
  {
   "cell_type": "code",
   "execution_count": 2,
   "metadata": {},
   "outputs": [],
   "source": [
    "# Definišemo klasu Igrač kao podklasu klase pygame.sprite.Sprite (Sprite)\n",
    "# Površina koja će se crtati na ekranu će biti i imati sva svojstva klase \"Igrac\"\n",
    "class Igrac(pygame.sprite.Sprite):\n",
    "    # Svojstva\n",
    "    brzina = 10\n",
    "    # Konstruktor\n",
    "    def __init__(self):\n",
    "        # Pozivamo konstruktor za Sprite klasu od koje nasleđujemo sve atribute \n",
    "        pygame.sprite.Sprite.__init__(self)\n",
    "        \n",
    "        # Kreirali smo sliku bloka i popunili smo je belom bojom, to je mogla biti i slika\n",
    "        # self.povrs = pygame.Surface( (25, 60) )\n",
    "        # self.povrs.fill(BELA)\n",
    "        self.povrs = pygame.image.load(\"sprites/spaceship/moving/1.png\")\n",
    "        self.povrs = pygame.transform.scale(self.povrs, (30, 30))\n",
    "        \n",
    "        \n",
    "        # Pravi objekat pravougaonika po dimenzijama površi koju smo napravili iznad\n",
    "        x = EKRAN_SIRINA / 2\n",
    "        y = EKRAN_VISINA - EKRAN_VISINA / 10\n",
    "        self.pravougaonik = self.povrs.get_rect(center=(x, y))\n",
    "\n",
    "        self.rect = self.pravougaonik\n",
    "    \n",
    "    # Metode\n",
    "    # Metoda za pomeranje sprite-a u zavisnosti od pritisnutog dugmeta\n",
    "    def update(self, dugmici):\n",
    "        if dugmici[K_UP]:\n",
    "            self.pravougaonik.move_ip(0, -self.brzina)\n",
    "        if dugmici[K_DOWN]:\n",
    "            self.pravougaonik.move_ip(0, self.brzina)\n",
    "        if dugmici[K_LEFT]:\n",
    "            self.pravougaonik.move_ip(-self.brzina, 0)\n",
    "        if dugmici[K_RIGHT]:\n",
    "            self.pravougaonik.move_ip(self.brzina, 0)\n",
    "        \n",
    "        # Pravimo proveru da li je igrač izašao sa ekrana\n",
    "        # left - x, top - y\n",
    "        if self.pravougaonik.top <= 0:\n",
    "            self.pravougaonik.top = 0\n",
    "        if self.pravougaonik.bottom >= EKRAN_VISINA:\n",
    "            self.pravougaonik.bottom = EKRAN_VISINA\n",
    "        if self.pravougaonik.left <= 0:\n",
    "            self.pravougaonik.left = 0\n",
    "        if self.pravougaonik.right >= EKRAN_SIRINA:\n",
    "            self.pravougaonik.right = EKRAN_SIRINA\n",
    "            \n",
    "        self.rect = self.pravougaonik\n",
    "            "
   ]
  },
  {
   "cell_type": "code",
   "execution_count": 3,
   "metadata": {},
   "outputs": [],
   "source": [
    "class Neprijatelj(pygame.sprite.Sprite):\n",
    "    # Svojstva\n",
    "    listaSlika = [pygame.image.load(\"sprites/meteors/red/1.png\"), pygame.image.load(\"sprites/meteors/red/2.png\"), pygame.image.load(\"sprites/meteors/red/3.png\"), pygame.image.load(\"sprites/meteors/red/4.png\")]\n",
    "    # Konstruktor\n",
    "    def __init__(self):\n",
    "        # Pozivamo konstruktor za Sprite klasu od koje nasleđujemo sve atribute \n",
    "        pygame.sprite.Sprite.__init__(self)\n",
    "        \n",
    "        # Kreirali smo sliku bloka i popunili smo je belom bojom, to je mogla biti i slika\n",
    "        # self.povrs = pygame.Surface([10, 20])\n",
    "        # self.povrs.fill(BELA)\n",
    "        meteor = random.randint(1, 4)\n",
    "        self.povrs = pygame.image.load(\"sprites/meteors/red/\" + str(meteor) + \".png\")\n",
    "\n",
    "        # Generisemo nasumicno poziciju neprijatelja po x i y osi\n",
    "        # Pravi objekat pravougaonika po dimenzijama površi koju smo napravili iznad\n",
    "        x = random.randint(0, EKRAN_SIRINA)\n",
    "        y = random.randint(-100, 0)\n",
    "        centar_pravougaonika = (x, y)\n",
    "        self.pravougaonik = self.povrs.get_rect(center=centar_pravougaonika)\n",
    "        # Postavljamo brzinu kretanja neprijatelja od gore ka dole\n",
    "        self.brzina = random.randint(3, 20)\n",
    "        \n",
    "        self.rect = self.pravougaonik\n",
    "\n",
    "        \n",
    "    # Metode\n",
    "    def update(self):\n",
    "        # Pomeramo neprijatelja za brzinu piksela na dole\n",
    "        self.pravougaonik.move_ip(0, self.brzina)\n",
    "        # Ako je presao donju ivicu ekrana, uklanjamo ga\n",
    "        if self.pravougaonik.top > EKRAN_VISINA:\n",
    "            self.kill()\n",
    "            # SCORE += 1\n",
    "        self.rect = self.pravougaonik"
   ]
  },
  {
   "cell_type": "markdown",
   "metadata": {},
   "source": [
    "### Glavno telo programa"
   ]
  },
  {
   "cell_type": "code",
   "execution_count": 4,
   "metadata": {},
   "outputs": [],
   "source": [
    "\n",
    "# Pravimo ekran na kome ćemo iscrtavati sve (display)\n",
    "display = pygame.display.set_mode((EKRAN_SIRINA, EKRAN_VISINA))\n",
    "\n",
    "# Pravimo naš event za dodavanje neprijatelja u grupu\n",
    "DODAJMETEOR = pygame.USEREVENT + 1\n",
    "pygame.time.set_timer(DODAJMETEOR, 100)\n",
    "\n",
    "# Pravimo igrača (neki pravougaonik, za sada)\n",
    "igrac = Igrac()\n",
    "\n",
    "# Grupa neprijatelji sadrži sve elemente klase Neprijatelji \n",
    "neprijatelji = pygame.sprite.Group()\n",
    "# Pravimo grupu u kojoj će se nalaziti svi sprite elementi, radi lakšeg iscrtavanja/ažuriranja, dodajemo igrača u grupu(listu)\n",
    "svi_sprite_elementi = pygame.sprite.Group()\n",
    "svi_sprite_elementi.add(igrac)\n",
    "\n",
    "# Počinjemo štopericu koja će nam ograničavati framerate\n",
    "stoperica = pygame.time.Clock()\n",
    "\n",
    "# Pravimo font objekat\n",
    "font = pygame.font.SysFont('arial', 15)\n",
    "# Pravimo povrs na koju cemo ispisivati trenutan rezultat\n",
    "text_povrs = font.render('Score: ' + str(SCORE), True, pygame.Color(\"white\"))\n",
    "# Pravimo pravougaoni oblik za tekst povrs\n",
    "text_pravougaonik = text_povrs.get_rect()\n",
    "text_pravougaonik = (10, EKRAN_VISINA - 25)\n",
    "\n",
    "# Glavna petlja (jedna iteracija == jedan frejm)\n",
    "# 1. Obrađujemo ulaze korisnika\n",
    "# 2. Ažuriramo stanja svih objekata\n",
    "# 3. Puštanje tog frejma, puštamo muzičke efekte\n",
    "# 4. Limitiramo brzinu izvršavanja petlje (limitiramo broj frejmova u sekundi)\n",
    "game_over = False\n",
    "while not game_over:\n",
    "    # 1. Obrađujemo ulaze korisnika\n",
    "    # Dohvata listu svih event-ova koji su se dogodili (pritiskanje tastature, miša, džojstika...)\n",
    "    for event in pygame.event.get():\n",
    "        # X dugme na prozoru\n",
    "        if event.type == pygame.QUIT:\n",
    "            game_over = True\n",
    "        # Bilo koje dugme na tastaturi\n",
    "        elif event.type == KEYDOWN:\n",
    "            # ESC\n",
    "            if event.key == K_ESCAPE:\n",
    "                game_over = True\n",
    "        # Ubacivanje neprijatelja\n",
    "        elif event.type == DODAJMETEOR:\n",
    "            # Pravimo neprijatelja, dodajemo ga na odgovarajuce grupe\n",
    "            meteor = Neprijatelj()\n",
    "            neprijatelji.add(meteor)\n",
    "            svi_sprite_elementi.add(meteor)\n",
    "            \n",
    "    \n",
    "    # Dohvata rečnik stanja svih dugmića na tastaturi (True/False, pritisnut/nije pritisnut)\n",
    "    pritisnuti_dugmici = pygame.key.get_pressed()\n",
    "    #######################################            \n",
    "    \n",
    "    # 2. Ažuriramo stanja svih objekata\n",
    "    display.fill(CRNA)\n",
    "    \n",
    "    # Ažuriramo stanje(mesto) igrača u odnosu na pritisnute dugmiće\n",
    "    igrac.update(pritisnuti_dugmici)\n",
    "    \n",
    "    # Ažuriramo poziciju neprijatelja\n",
    "    neprijatelji.update()\n",
    "    \n",
    "    # Postavljamo igrača na display\n",
    "    # blit() - Block Transfer, preslikava jednu površinu na drugu\n",
    "    # display.blit(igrac_brod.povrs, (EKRAN_SIRINA/2, EKRAN_VISINA/2))\n",
    "    \n",
    "    # Pomeranjem koordinata pravougaonika crta nam se površ od igrača\n",
    "    # display.blit(igrac.povrs, igrac.pravougaonik)\n",
    "    \n",
    "    # Crtamo grupu svih sprite elemenata od jednom\n",
    "    for element in svi_sprite_elementi:\n",
    "        display.blit(element.povrs, element.pravougaonik)\n",
    "    display.blit(text_povrs, text_pravougaonik)\n",
    "    # Vršimo proveru da li je neki od neprijtelja udario igrača\n",
    "    if pygame.sprite.spritecollideany(igrac, neprijatelji) != None:\n",
    "        # Ako se desila neka kolizija, brišemo igrača i prekidamo igru/glavnu petlju\n",
    "        igrac.kill()\n",
    "        game_over = False\n",
    "        \n",
    "    #######################################\n",
    "    \n",
    "    # 3. Puštanje tog frejma, puštamo muzičke efekte\n",
    "    # Flipovanje displeja (prikazujemo frejm koji smo napravili do ovog trenutka)\n",
    "    pygame.display.flip()\n",
    "    \n",
    "    # 4. Ograničavamo brzinu izvršavanja ove petlje\n",
    "    stoperica.tick(FRAMERATE)\n",
    "    \n",
    "# Čisti display i gasi prozor\n",
    "pygame.quit()"
   ]
  }
 ],
 "metadata": {
  "kernelspec": {
   "display_name": "Python 3",
   "language": "python",
   "name": "python3"
  },
  "language_info": {
   "codemirror_mode": {
    "name": "ipython",
    "version": 3
   },
   "file_extension": ".py",
   "mimetype": "text/x-python",
   "name": "python",
   "nbconvert_exporter": "python",
   "pygments_lexer": "ipython3",
   "version": "3.7.4"
  }
 },
 "nbformat": 4,
 "nbformat_minor": 2
}
