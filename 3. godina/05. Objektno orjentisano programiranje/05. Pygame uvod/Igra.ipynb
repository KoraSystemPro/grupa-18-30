{
 "cells": [
  {
   "cell_type": "markdown",
   "metadata": {},
   "source": [
    "# Pygame"
   ]
  },
  {
   "cell_type": "markdown",
   "metadata": {},
   "source": [
    "## Uvod\n"
   ]
  },
  {
   "cell_type": "markdown",
   "metadata": {},
   "source": [
    "### instalacija"
   ]
  },
  {
   "cell_type": "code",
   "execution_count": 2,
   "metadata": {},
   "outputs": [
    {
     "name": "stdout",
     "output_type": "stream",
     "text": [
      "Requirement already satisfied: pygame in c:\\programdata\\anaconda3\\lib\\site-packages (2.0.1)\n",
      "Note: you may need to restart the kernel to use updated packages.\n"
     ]
    }
   ],
   "source": [
    "pip install pygame"
   ]
  },
  {
   "cell_type": "markdown",
   "metadata": {},
   "source": [
    "### Osnove"
   ]
  },
  {
   "cell_type": "code",
   "execution_count": 12,
   "metadata": {},
   "outputs": [],
   "source": [
    "# importujemo i inicijalizujemo pygame biblioteku\n",
    "import pygame\n",
    "pygame.init()\n",
    "\n",
    "# Podesavamo prostor po kome cemo crtati\n",
    "display = pygame.display.set_mode((500, 500))\n",
    "\n",
    "# Konstane koje sadrze neke od boja\n",
    "CRNA = pygame.Color(\"black\")\n",
    "PINK = pygame.Color(230, 70, 230)\n",
    "\n",
    "# Glavna petlja \n",
    "game_over = False\n",
    "while not game_over:\n",
    "    # Dohvata listu svih event-ova koji su se dogodili (pritiskanje tastature, misa, džojstika...)\n",
    "    for event in pygame.event.get():\n",
    "        if event.type == pygame.QUIT:\n",
    "            game_over = True\n",
    "    \n",
    "    # Azurirarnje frejma\n",
    "    ####################\n",
    "    # Puni prozor crnom bojom\n",
    "    display.fill(CRNA)\n",
    "    # Crtamo beli krug na koordinatama 250, 250 sa poluprecnikom 30\n",
    "    pygame.draw.circle(display, PINK, (250, 250), 30)\n",
    "    ####################\n",
    "    \n",
    "    # Flipovanje displeja (prikazujemo frejm koji smo napravili do ovog trenutka)\n",
    "    pygame.display.flip()\n",
    "\n",
    "\n",
    "# Cisti display i gasi prozor\n",
    "pygame.quit()"
   ]
  },
  {
   "cell_type": "markdown",
   "metadata": {},
   "source": [
    "### Koncepti"
   ]
  },
  {
   "cell_type": "markdown",
   "metadata": {},
   "source": [
    "#### Display i Surface (displaj i povrsi)\n",
    "\n",
    "Surface - pravi jedan pravougaonik na kom možete da crtate, ili na koji možete da stavite neku sliku.\n",
    "<br>Display - ili prozor ili fullscreen, sve što se prikazuje na njemu će krajni korisnik videti, on se kreira se medotodm .set_mode() i mi na ovu površ šaljemo sve funkcije koje će nam prikazati neki oblik, npr krug"
   ]
  },
  {
   "cell_type": "markdown",
   "metadata": {},
   "source": [
    "## Igrica"
   ]
  },
  {
   "cell_type": "code",
   "execution_count": 5,
   "metadata": {},
   "outputs": [],
   "source": [
    "# Importujemo pygame\n",
    "import pygame\n",
    "\n",
    "# Importujemo i moduo koji zna koje dugme je pritisnuto\n",
    "from pygame.locals import *\n",
    "\n",
    "\n",
    "# Inicijalizujemo pygame biblioteku\n",
    "pygame.init()\n",
    "\n",
    "# Definišemo konstane koje će se koristiti u programu\n",
    "EKRAN_SIRINA = 800\n",
    "EKRAN_VISINA = 600\n",
    "# Boje\n",
    "CRNA = pygame.Color(\"black\")\n",
    "BELA = pygame.Color(\"white\")\n",
    "PINK = pygame.Color(230, 70, 230)"
   ]
  },
  {
   "cell_type": "markdown",
   "metadata": {},
   "source": [
    "### Definišemo klase"
   ]
  },
  {
   "cell_type": "code",
   "execution_count": 8,
   "metadata": {},
   "outputs": [],
   "source": [
    "# Definišemo klasu Igrač kao podklasu klase pygame.sprite.Sprite (Sprite)\n",
    "# Površina koja će se crtati na ekranu će biti i imaati sva svojstva klase \"Igrac\"\n",
    "class Igrac(pygame.sprite.Sprite):\n",
    "    # Svojstva\n",
    "    # Konstruktor\n",
    "    def __init__(self):\n",
    "        # Pozivamo konstruktor za Sprite klasu od koje nasleđujemo sve atribute \n",
    "        pygame.sprite.Sprite.__init__(self)\n",
    "        \n",
    "        # Kreirali smo sliku bloka i popunili smo je belom bojom, to je mogla biti i slika\n",
    "        self.povrs = pygame.Surface( (25, 60) )\n",
    "        self.povrs.fill(BELA)\n",
    "        \n",
    "        # Pravi objekat pravougaonika po dimenzijama površi koju smo napravili iznad\n",
    "        self.pravougaonik = self.povrs.get_rect()\n",
    "    # Metoda\n",
    "    # Metoda za pomeranje sprite-a u zavisnosti od pritisnutog dugmeta\n",
    "    def update(self, dugmici):\n",
    "        if dugmici[K_UP]:\n",
    "            self.pravougaonik.move_ip(0, -5)\n",
    "        if dugmici[K_DOWN]:\n",
    "            self.pravougaonik.move_ip(0, 5)\n",
    "        if dugmici[K_LEFT]:\n",
    "            self.pravougaonik.move_ip(-5, 0)\n",
    "        if dugmici[K_RIGHT]:\n",
    "            self.pravougaonik.move_ip(5, 0)\n",
    "        \n",
    "        # Pravimo proveru da li je igrač izašao sa ekrana\n",
    "        # left - x, top - y\n",
    "        if self.pravougaonik.top <= 0:\n",
    "            self.pravougaonik.top = 0\n",
    "        if self.pravougaonik.bottom >= EKRAN_VISINA:\n",
    "            self.pravougaonik.bottom = EKRAN_VISINA\n",
    "        if self.pravougaonik.left <= 0:\n",
    "            self.pravougaonik.left = 0\n",
    "        if self.pravougaonik.right >= EKRAN_SIRINA:\n",
    "            self.pravougaonik.right = EKRAN_SIRINA\n",
    "            "
   ]
  },
  {
   "cell_type": "code",
   "execution_count": 9,
   "metadata": {},
   "outputs": [],
   "source": [
    "\n",
    "# Praivmo ekran na kome ćemo iscrtavati sve (display)\n",
    "display = pygame.display.set_mode((EKRAN_SIRINA, EKRAN_VISINA))\n",
    "\n",
    "# Pravimo igrača (neki pravougaonik, za sada)\n",
    "igrac = Igrac()\n",
    "\n",
    "\n",
    "# Glavna petlja (jedna iteracija == jedan frejm)\n",
    "# 1. Obrađujemo ulaze korisnika\n",
    "# 2. Ažuriramo stanja svih objekata\n",
    "# 3. Puštanje tog frejma, puštamo muzičke efekte\n",
    "# 4. Limitiramo brzinu izvršavanja petlje (limitiramo broj frejmova u sekundi)\n",
    "game_over = False\n",
    "while not game_over:\n",
    "    # 1. Obrađujemo ulaze korisnika\n",
    "    # Dohvata listu svih event-ova koji su se dogodili (pritiskanje tastature, misa, džojstika...)\n",
    "    for event in pygame.event.get():\n",
    "        # X dugme na prozoru\n",
    "        if event.type == pygame.QUIT:\n",
    "            game_over = True\n",
    "        # Bilo koje dugme na tastaturi\n",
    "        elif event.type == KEYDOWN:\n",
    "            # ESC\n",
    "            if event.key == K_ESCAPE:\n",
    "                game_over = True\n",
    "    \n",
    "    # Dohvata rečnik stanja svih dugmića na tastaturi (True/False, pritisnut/nije pritisnut)\n",
    "    pritisnuti_dugmici = pygame.key.get_pressed()\n",
    "    #######################################            \n",
    "    \n",
    "    # 2. Ažuriramo stanja svih objekata\n",
    "    display.fill(CRNA)\n",
    "    \n",
    "    # Ažuriramo stanje(mesto) igrača u odnosu na pritisnute dugmiće\n",
    "    igrac.update(pritisnuti_dugmici)\n",
    "    \n",
    "    \n",
    "    # Postavljamo igrača na display\n",
    "    # blit() - Block Transfer, preslikava jednu površinu na drugu\n",
    "    # display.blit(igrac_brod.povrs, (EKRAN_SIRINA/2, EKRAN_VISINA/2))\n",
    "    \n",
    "    # Pomeranjem koordinata pravougaonika crta nam se površ od igrača\n",
    "    display.blit(igrac.povrs, igrac.pravougaonik)\n",
    "    \n",
    "    #######################################\n",
    "    \n",
    "    # 3. Puštanje tog frejma, puštamo muzičke efekte\n",
    "    # Flipovanje displeja (prikazujemo frejm koji smo napravili do ovog trenutka)\n",
    "    pygame.display.flip()\n",
    "    \n",
    "    \n",
    "# Cisti display i gasi prozor\n",
    "pygame.quit()"
   ]
  },
  {
   "cell_type": "code",
   "execution_count": null,
   "metadata": {},
   "outputs": [],
   "source": []
  }
 ],
 "metadata": {
  "kernelspec": {
   "display_name": "Python 3",
   "language": "python",
   "name": "python3"
  },
  "language_info": {
   "codemirror_mode": {
    "name": "ipython",
    "version": 3
   },
   "file_extension": ".py",
   "mimetype": "text/x-python",
   "name": "python",
   "nbconvert_exporter": "python",
   "pygments_lexer": "ipython3",
   "version": "3.7.4"
  }
 },
 "nbformat": 4,
 "nbformat_minor": 2
}
